{
 "cells": [
  {
   "cell_type": "code",
   "execution_count": 20,
   "id": "f2a3af92",
   "metadata": {},
   "outputs": [],
   "source": [
    "import torch\n",
    "from torch.nn.utils.rnn import pad_sequence\n",
    "\n",
    "ls = torch.nn.LogSoftmax(dim=-1)\n",
    "t = torch.rand(10, 6, 3)\n",
    "p = ls(t)"
   ]
  },
  {
   "cell_type": "code",
   "execution_count": null,
   "id": "1e5802d3",
   "metadata": {},
   "outputs": [
    {
     "data": {
      "text/plain": [
       "tensor([[-3.3058, -3.2960, -3.3118, -3.2967, -3.3422, -3.3965],\n",
       "        [-3.4560, -3.4571, -3.3333, -3.4888, -3.3595, -3.3499],\n",
       "        [-3.4017, -3.2959, -3.3555, -3.3273, -3.2991, -3.3102],\n",
       "        [-3.3510, -3.3723, -3.3306, -3.3341, -3.2988, -3.3078],\n",
       "        [-3.3939, -3.3830, -3.3065, -3.3035, -3.3403, -3.3916],\n",
       "        [-3.3051, -3.4689, -3.3552, -3.5426, -3.3468, -3.3508],\n",
       "        [-3.3125, -3.4279, -3.4049, -3.3197, -3.3178, -3.4192],\n",
       "        [-3.3906, -3.3048, -3.3244, -3.3604, -3.3320, -3.3199],\n",
       "        [-3.5161, -3.2964, -3.4348, -3.4771, -3.4235, -3.3115],\n",
       "        [-3.5106, -3.5345, -3.3774, -3.4859, -3.4673, -3.3068]])"
      ]
     },
     "execution_count": 21,
     "metadata": {},
     "output_type": "execute_result"
    }
   ],
   "source": [
    "torch.sum(p, dim)"
   ]
  },
  {
   "cell_type": "code",
   "execution_count": 24,
   "id": "d32df59e",
   "metadata": {},
   "outputs": [
    {
     "name": "stderr",
     "output_type": "stream",
     "text": [
      "c:\\Users\\art3m\\anaconda3\\envs\\dla\\Lib\\site-packages\\torch\\nn\\modules\\module.py:1773: UserWarning: Implicit dimension choice for log_softmax has been deprecated. Change the call to include dim=X as an argument.\n",
      "  return self._call_impl(*args, **kwargs)\n"
     ]
    },
    {
     "data": {
      "text/plain": [
       "(tensor([-2.4076, -1.4076, -0.4076]), tensor(-4.2228))"
      ]
     },
     "execution_count": 24,
     "metadata": {},
     "output_type": "execute_result"
    }
   ],
   "source": [
    "ls = torch.nn.LogSoftmax()\n",
    "t = torch.tensor([1.0, 2.0, 3.0])\n",
    "ls(t), torch.sum(ls(t))"
   ]
  },
  {
   "cell_type": "code",
   "execution_count": 12,
   "id": "280cc278",
   "metadata": {},
   "outputs": [
    {
     "name": "stdout",
     "output_type": "stream",
     "text": [
      "torch.Size([1, 3])\n",
      "torch.Size([1, 2])\n",
      "torch.Size([1, 5])\n"
     ]
    },
    {
     "data": {
      "text/plain": [
       "tensor([[1, 2, 3, 0, 0],\n",
       "        [1, 2, 0, 0, 0],\n",
       "        [1, 2, 3, 4, 5]])"
      ]
     },
     "execution_count": 12,
     "metadata": {},
     "output_type": "execute_result"
    }
   ],
   "source": [
    "t = [\n",
    "    torch.tensor([[1, 2, 3]]), \n",
    "    torch.tensor([[1, 2]]), \n",
    "    torch.tensor([[1, 2, 3, 4, 5]])\n",
    "]\n",
    "print(t[0].shape)\n",
    "print(t[1].shape)\n",
    "print(t[2].shape)\n",
    "pad_sequence([a.squeeze() for a in t], batch_first=True)"
   ]
  }
 ],
 "metadata": {
  "kernelspec": {
   "display_name": "dla",
   "language": "python",
   "name": "python3"
  },
  "language_info": {
   "codemirror_mode": {
    "name": "ipython",
    "version": 3
   },
   "file_extension": ".py",
   "mimetype": "text/x-python",
   "name": "python",
   "nbconvert_exporter": "python",
   "pygments_lexer": "ipython3",
   "version": "3.11.13"
  }
 },
 "nbformat": 4,
 "nbformat_minor": 5
}
