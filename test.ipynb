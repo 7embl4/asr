{
 "cells": [
  {
   "cell_type": "code",
   "execution_count": 19,
   "id": "f2a3af92",
   "metadata": {},
   "outputs": [
    {
     "name": "stdout",
     "output_type": "stream",
     "text": [
      "torch.Size([2, 3])\n",
      "torch.Size([2, 2])\n",
      "torch.Size([2, 5])\n"
     ]
    },
    {
     "data": {
      "text/plain": [
       "torch.Size([3, 2, 5])"
      ]
     },
     "execution_count": 19,
     "metadata": {},
     "output_type": "execute_result"
    }
   ],
   "source": [
    "import torch\n",
    "from torch.nn.utils.rnn import pad_sequence\n",
    "\n",
    "t = [\n",
    "    torch.tensor([[1, 2, 3], [4, 5, 6]]), \n",
    "    torch.tensor([[1, 2], [3, 4]]), \n",
    "    torch.tensor([[1, 2, 3, 4, 5], [6, 7, 8, 9, 1]])\n",
    "]\n",
    "print(t[0].shape)\n",
    "print(t[1].shape)\n",
    "print(t[2].shape)\n",
    "padded = pad_sequence([a.T for a in t], batch_first=True)\n",
    "padded.permute(0, 2, 1).shape"
   ]
  },
  {
   "cell_type": "code",
   "execution_count": 12,
   "id": "280cc278",
   "metadata": {},
   "outputs": [
    {
     "name": "stdout",
     "output_type": "stream",
     "text": [
      "torch.Size([1, 3])\n",
      "torch.Size([1, 2])\n",
      "torch.Size([1, 5])\n"
     ]
    },
    {
     "data": {
      "text/plain": [
       "tensor([[1, 2, 3, 0, 0],\n",
       "        [1, 2, 0, 0, 0],\n",
       "        [1, 2, 3, 4, 5]])"
      ]
     },
     "execution_count": 12,
     "metadata": {},
     "output_type": "execute_result"
    }
   ],
   "source": [
    "t = [\n",
    "    torch.tensor([[1, 2, 3]]), \n",
    "    torch.tensor([[1, 2]]), \n",
    "    torch.tensor([[1, 2, 3, 4, 5]])\n",
    "]\n",
    "print(t[0].shape)\n",
    "print(t[1].shape)\n",
    "print(t[2].shape)\n",
    "pad_sequence([a.squeeze() for a in t], batch_first=True)"
   ]
  }
 ],
 "metadata": {
  "kernelspec": {
   "display_name": "dla",
   "language": "python",
   "name": "python3"
  },
  "language_info": {
   "codemirror_mode": {
    "name": "ipython",
    "version": 3
   },
   "file_extension": ".py",
   "mimetype": "text/x-python",
   "name": "python",
   "nbconvert_exporter": "python",
   "pygments_lexer": "ipython3",
   "version": "3.11.13"
  }
 },
 "nbformat": 4,
 "nbformat_minor": 5
}
